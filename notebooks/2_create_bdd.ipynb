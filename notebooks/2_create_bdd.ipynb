{
 "cells": [
  {
   "cell_type": "markdown",
   "id": "5c38e090",
   "metadata": {},
   "source": [
    "# Traitement et stockage des données issues du scraping\n",
    "\n",
    "Vous avez scrapé les données du site de livres et les avez stockées dans un fichier. \n",
    "\n",
    "L'objectif de ce notebook est de créer une base de données pour y stocker ces données."
   ]
  },
  {
   "cell_type": "code",
   "execution_count": 1,
   "id": "fc007873",
   "metadata": {},
   "outputs": [],
   "source": [
    "import sqlite3\n",
    "import pandas as pd"
   ]
  },
  {
   "cell_type": "markdown",
   "id": "dd34cc58",
   "metadata": {},
   "source": [
    "Lire les données du fichier sauvegardé en utilisant pandas."
   ]
  },
  {
   "cell_type": "code",
   "execution_count": 2,
   "id": "8aa4b567",
   "metadata": {},
   "outputs": [
    {
     "name": "stdout",
     "output_type": "stream",
     "text": [
      "                                   title   price rating availability\n",
      "0                   A Light in the Attic  £51.77  Three     In stock\n",
      "1                     Tipping the Velvet  £53.74    One     In stock\n",
      "2                             Soumission  £50.10    One     In stock\n",
      "3                          Sharp Objects  £47.82   Four     In stock\n",
      "4  Sapiens: A Brief History of Humankind  £54.23   Five     In stock\n"
     ]
    }
   ],
   "source": [
    "# Lire les données du fichier que vous venez d'enregistrer\n",
    "\n",
    "books_df = pd.read_csv('resultats.csv')\n",
    "\n",
    "print(books_df.head())  # Afficher les premières lignes du DataFrame"
   ]
  },
  {
   "cell_type": "markdown",
   "id": "56d48fb1",
   "metadata": {},
   "source": [
    "## 1. Prétraitement des données\n",
    "\n",
    "On souhaite créer la table _book_ contenant les attributs suivants : \n",
    "- id : INT, PK,\n",
    "- title : TEXT,\n",
    "- price : DECIMAL\n",
    "- availability : BOOLEAN\n",
    "- rating : INT [0:5]\n",
    "\n",
    "Vérifier les types des colonnes du dataframe."
   ]
  },
  {
   "cell_type": "code",
   "execution_count": 3,
   "id": "0505d094",
   "metadata": {},
   "outputs": [
    {
     "name": "stdout",
     "output_type": "stream",
     "text": [
      "title           object\n",
      "price           object\n",
      "rating          object\n",
      "availability    object\n",
      "dtype: object\n"
     ]
    }
   ],
   "source": [
    "# Vérification des types de données\n",
    "\n",
    "print (books_df.dtypes) "
   ]
  },
  {
   "cell_type": "markdown",
   "id": "1be2df09",
   "metadata": {},
   "source": [
    "Dans les cellules qui suivent, des méthodes de traitement de données sont suggérées pour donner un aperçu de ce qu'il est possible de faire avec pandas.\n",
    "\n",
    "**Il est tout à fait possible de faire autrement.**\n",
    "\n",
    "Utiliser la méthode pandas [_astype_](https://pandas.pydata.org/pandas-docs/stable/reference/api/pandas.DataFrame.astype.html) pour convertir la colonne de titre en chaîne de caractère."
   ]
  },
  {
   "cell_type": "code",
   "execution_count": 4,
   "id": "10f0638f",
   "metadata": {},
   "outputs": [],
   "source": [
    "# # Conversion de title en chaîne de caractères\n",
    "# books_df[\"title\"].astype(str)\n",
    "\n",
    "# # Vérification du type de la colonne title\n",
    "# print(books_df[\"title\"].dtype)"
   ]
  },
  {
   "cell_type": "markdown",
   "id": "e4e6b924",
   "metadata": {},
   "source": [
    "Pour convertir la colonne de prix en nombre décimal, il est nécessaire d'utiliser une étape intermédiaire pour retirer le caractère \"£\".\n",
    "\n",
    "Il est possible par exemple d'utiliser l'attribut [.str](https://pandas.pydata.org/pandas-docs/stable/reference/api/pandas.Series.str.html) de la série \"price\"."
   ]
  },
  {
   "cell_type": "code",
   "execution_count": null,
   "id": "5e6bd8ce",
   "metadata": {},
   "outputs": [
    {
     "name": "stdout",
     "output_type": "stream",
     "text": [
      "float64\n"
     ]
    }
   ],
   "source": [
    "# # Convertir la colonne price en type décimal\n",
    "# books_df[\"price\"] = books_df[\"price\"].str.replace(\"£\", \"\").astype(float)\n",
    "\n",
    "# # Vérification du type de la colonne price\n",
    "# print(books_df[\"price\"].dtype)"
   ]
  },
  {
   "cell_type": "markdown",
   "id": "a537478f",
   "metadata": {},
   "source": [
    "Convertir la colonne `availability` en boolen (True/False).\n",
    "\n",
    "Quelles sont les valeurs possibles pour la colonne availability ?"
   ]
  },
  {
   "cell_type": "code",
   "execution_count": 6,
   "id": "fbadd4ca",
   "metadata": {},
   "outputs": [],
   "source": [
    "# # # Valeurs possibles de la colonne availability\n",
    "# books_df[\"availability\"] = books_df[\"availability\"].str.replace(\"In stock\", \"True/False\").astype(bool)\n",
    "\n",
    "# print (books_df[\"availability\"].dtype)"
   ]
  },
  {
   "cell_type": "markdown",
   "id": "6c12b18a",
   "metadata": {},
   "source": [
    "Créer une fonction qui prend en entrée la valeur de `availability` et qui renvoie True ou False en fonction de la valeur d'entrée."
   ]
  },
  {
   "cell_type": "code",
   "execution_count": 7,
   "id": "679627d6",
   "metadata": {},
   "outputs": [
    {
     "name": "stdout",
     "output_type": "stream",
     "text": [
      "title           object\n",
      "price           object\n",
      "rating          object\n",
      "availability    object\n",
      "dtype: object\n"
     ]
    }
   ],
   "source": [
    "# Fonction pour convertir la valeur de availability en booléen\n",
    "def convert_availability(value : str) -> bool:\n",
    "    \"\"\"Convert the availability value to a boolean.\n",
    "\n",
    "    Args:\n",
    "        value (str): The availability status of the book.\n",
    "\n",
    "    Returns:\n",
    "        bool: True if the book is available, False otherwise.\n",
    "    \"\"\"\n",
    "    \n",
    "    if value == \"In stock\" :\n",
    "        return True\n",
    "    return False\n",
    "\n",
    "    # Vérification des types de données après conversion\n",
    "print(books_df.dtypes)\n"
   ]
  },
  {
   "cell_type": "markdown",
   "id": "0dad009f",
   "metadata": {},
   "source": [
    "Utiliser la méthode [`apply`](https://pandas.pydata.org/pandas-docs/stable/reference/api/pandas.DataFrame.apply.html) pour appliquer la fonction à la colonne `availability`."
   ]
  },
  {
   "cell_type": "code",
   "execution_count": 8,
   "id": "3de7ec67",
   "metadata": {},
   "outputs": [],
   "source": [
    "# # Convertir la colonne availability en booléen (True/False)\n",
    "# books_df[\"availability\"] = books_df[\"availability\"].apply(convert_availability)\n",
    "\n",
    "# # Vérification du type de la colonne availability\n",
    "# print(books_df[\"availability\"].dtype)"
   ]
  },
  {
   "cell_type": "markdown",
   "id": "fd9877d9",
   "metadata": {},
   "source": [
    "Convertir la colonne _rating_ en chiffre en utilisant un dictionnaire `rating_map` et la méthode [_map_](https://pandas.pydata.org/pandas-docs/stable/reference/api/pandas.Series.map.html)."
   ]
  },
  {
   "cell_type": "code",
   "execution_count": 9,
   "id": "9b20c1e2",
   "metadata": {},
   "outputs": [],
   "source": [
    "# Dictionnaire associant les notes au format initial et les valeurs numérique\n",
    "# ratings_map = {\n",
    "#     \"one\": 1,\n",
    "#     \"two\": 2,\n",
    "#     \"three\": 3,\n",
    "#     \"four\": 4,\n",
    "#     \"five\": 5,\n",
    "# }\n",
    "# books_df[\"rating\"] = books_df[\"rating\"].map(ratings_map)\n",
    "# books_df[\"rating\"] = books_df[\"rating\"].astype(float) # Convertir en float\n",
    "\n",
    "# Vérification du type de la colonne rating\n",
    "# print(books_df[\"rating\"].dtype)"
   ]
  },
  {
   "cell_type": "code",
   "execution_count": 10,
   "id": "69770cdf",
   "metadata": {},
   "outputs": [
    {
     "name": "stdout",
     "output_type": "stream",
     "text": [
      "title           object\n",
      "price           object\n",
      "rating          object\n",
      "availability    object\n",
      "dtype: object\n",
      "                                   title   price rating availability\n",
      "0                   A Light in the Attic  £51.77  Three     In stock\n",
      "1                     Tipping the Velvet  £53.74    One     In stock\n",
      "2                             Soumission  £50.10    One     In stock\n",
      "3                          Sharp Objects  £47.82   Four     In stock\n",
      "4  Sapiens: A Brief History of Humankind  £54.23   Five     In stock\n"
     ]
    }
   ],
   "source": [
    "# Créer une fonction convert_types qui combine les traitements faits dans les cellules précédentes\n",
    "def convert_types(books_df: pd.DataFrame) -> pd.DataFrame:\n",
    "    \"\"\"Convert the types of the DataFrame columns to appropriate types.\n",
    "\n",
    "    Args:\n",
    "        books_df (pd.DataFrame): The DataFrame containing book data.\n",
    "\n",
    "    Returns:\n",
    "        pd.DataFrame: The DataFrame with converted types.\n",
    "    \"\"\"\n",
    "    books_df[\"title\"] = books_df[\"title\"].astype(str)\n",
    "    books_df[\"price\"] = books_df[\"price\"].str.replace(\"£\", \"\").astype(float)\n",
    "    books_df[\"availability\"] = books_df[\"availability\"].apply(convert_availability)\n",
    "    books_df[\"availability\"] = books_df[\"availability\"].str.replace(\"In stock\", \"True/False\").astype(bool)\n",
    "    ratings_map = {\n",
    "        \"one\": 1,\n",
    "        \"two\": 2,\n",
    "        \"three\": 3,\n",
    "        \"four\": 4,\n",
    "        \"five\": 5\n",
    "    }\n",
    "    books_df[\"rating\"] = books_df[\"rating\"].map(ratings_map)\n",
    "    books_df[\"rating\"] = books_df[\"rating\"].astype(float) # Convertir en float\n",
    "\n",
    "    return books_df\n",
    "print(books_df.dtypes)\n",
    "print(books_df.head())  \n",
    "\n"
   ]
  },
  {
   "cell_type": "markdown",
   "id": "b946ba92",
   "metadata": {},
   "source": [
    "---\n",
    "## 2. Insertion des données en base\n",
    "\n",
    "Dans cette section :\n",
    "- on créé une BDD sqlite  `book_store.db` (ou on se connecte à la base si elle existe déjà) en utilisant la bibliothèque python sqlite3,\n",
    "- on insère les données prétraitées dans la BDD\n",
    "\n",
    "Utiliser le [tutoriel](https://www.ionos.fr/digitalguide/sites-internet/developpement-web/sqlite3-avec-python/) pour l'utilisation de sqlite3.\n",
    "\n",
    "Utiliser la fonction pandas adaptée qui permet d'insérer un dataframe dans une BDD."
   ]
  },
  {
   "cell_type": "code",
   "execution_count": 11,
   "id": "ce2420d4",
   "metadata": {},
   "outputs": [
    {
     "name": "stdout",
     "output_type": "stream",
     "text": [
      "Scraping page 1: http://books.toscrape.com/catalogue/page-1.html\n",
      "Scraping page 2: http://books.toscrape.com/catalogue/page-2.html\n",
      "Scraping page 3: http://books.toscrape.com/catalogue/page-3.html\n",
      "Scraping page 4: http://books.toscrape.com/catalogue/page-4.html\n",
      "Scraping page 5: http://books.toscrape.com/catalogue/page-5.html\n",
      "Scraping page 6: http://books.toscrape.com/catalogue/page-6.html\n",
      "Scraping page 7: http://books.toscrape.com/catalogue/page-7.html\n",
      "Scraping page 8: http://books.toscrape.com/catalogue/page-8.html\n",
      "Scraping page 9: http://books.toscrape.com/catalogue/page-9.html\n",
      "Scraping page 10: http://books.toscrape.com/catalogue/page-10.html\n",
      "Scraping page 11: http://books.toscrape.com/catalogue/page-11.html\n",
      "Scraping page 12: http://books.toscrape.com/catalogue/page-12.html\n",
      "Scraping page 13: http://books.toscrape.com/catalogue/page-13.html\n",
      "Scraping page 14: http://books.toscrape.com/catalogue/page-14.html\n",
      "Scraping page 15: http://books.toscrape.com/catalogue/page-15.html\n",
      "Scraping page 16: http://books.toscrape.com/catalogue/page-16.html\n",
      "Scraping page 17: http://books.toscrape.com/catalogue/page-17.html\n",
      "Scraping page 18: http://books.toscrape.com/catalogue/page-18.html\n",
      "Scraping page 19: http://books.toscrape.com/catalogue/page-19.html\n",
      "Scraping page 20: http://books.toscrape.com/catalogue/page-20.html\n",
      "Scraping page 21: http://books.toscrape.com/catalogue/page-21.html\n",
      "Scraping page 22: http://books.toscrape.com/catalogue/page-22.html\n",
      "Scraping page 23: http://books.toscrape.com/catalogue/page-23.html\n",
      "Scraping page 24: http://books.toscrape.com/catalogue/page-24.html\n",
      "Scraping page 25: http://books.toscrape.com/catalogue/page-25.html\n",
      "Scraping page 26: http://books.toscrape.com/catalogue/page-26.html\n",
      "Scraping page 27: http://books.toscrape.com/catalogue/page-27.html\n",
      "Scraping page 28: http://books.toscrape.com/catalogue/page-28.html\n",
      "Scraping page 29: http://books.toscrape.com/catalogue/page-29.html\n",
      "Scraping page 30: http://books.toscrape.com/catalogue/page-30.html\n",
      "Scraping page 31: http://books.toscrape.com/catalogue/page-31.html\n",
      "Scraping page 32: http://books.toscrape.com/catalogue/page-32.html\n",
      "Scraping page 33: http://books.toscrape.com/catalogue/page-33.html\n",
      "Scraping page 34: http://books.toscrape.com/catalogue/page-34.html\n",
      "Scraping page 35: http://books.toscrape.com/catalogue/page-35.html\n",
      "Scraping page 36: http://books.toscrape.com/catalogue/page-36.html\n",
      "Scraping page 37: http://books.toscrape.com/catalogue/page-37.html\n",
      "Scraping page 38: http://books.toscrape.com/catalogue/page-38.html\n",
      "Scraping page 39: http://books.toscrape.com/catalogue/page-39.html\n",
      "Scraping page 40: http://books.toscrape.com/catalogue/page-40.html\n",
      "Scraping page 41: http://books.toscrape.com/catalogue/page-41.html\n",
      "Scraping page 42: http://books.toscrape.com/catalogue/page-42.html\n",
      "Scraping page 43: http://books.toscrape.com/catalogue/page-43.html\n",
      "Scraping page 44: http://books.toscrape.com/catalogue/page-44.html\n",
      "Scraping page 45: http://books.toscrape.com/catalogue/page-45.html\n",
      "Scraping page 46: http://books.toscrape.com/catalogue/page-46.html\n",
      "Scraping page 47: http://books.toscrape.com/catalogue/page-47.html\n",
      "Scraping page 48: http://books.toscrape.com/catalogue/page-48.html\n",
      "Scraping page 49: http://books.toscrape.com/catalogue/page-49.html\n",
      "Scraping page 50: http://books.toscrape.com/catalogue/page-50.html\n"
     ]
    }
   ],
   "source": [
    "import pandas as pd\n",
    "import sqlite3\n",
    "from bs4 import BeautifulSoup\n",
    "import requests\n",
    "\n",
    "# Exemple de data propre\n",
    "def get_books_from_page(soup: BeautifulSoup) -> list[BeautifulSoup]:\n",
    "    return soup.find_all(\"article\", class_=\"product_pod\")\n",
    "def extract_title(book: BeautifulSoup) -> str:\n",
    "    return book.find(\"h3\").find(\"a\")[\"title\"]\n",
    "def extract_price(book: BeautifulSoup) -> str:\n",
    "    return book.find(\"p\", class_=\"price_color\").text\n",
    "def extract_rating(book: BeautifulSoup) -> str:\n",
    "    return book.find(\"p\", class_=\"star-rating\")[\"class\"][1]\n",
    "def extract_availability(book: BeautifulSoup) -> str:\n",
    "    return book.find(\"p\", class_=\"instock availability\").text.strip()\n",
    "\n",
    "def extract_book_info(book: BeautifulSoup) -> dict:\n",
    "    return {\n",
    "        \"title\": extract_title(book),\n",
    "        \"price\": extract_price(book),\n",
    "        \"rating\": extract_rating(book),\n",
    "        \"availability\": extract_availability(book)\n",
    "    }\n",
    "\n",
    "base_url = \"http://books.toscrape.com/catalogue/page-{}.html\"\n",
    "\n",
    "def scrape_books(pages: int) -> list[dict]:\n",
    "    all_books = []\n",
    "# Scraping sur plusieurs pages\n",
    "    for page in range(1, pages + 1):\n",
    "        url = base_url.format(page)\n",
    "        print(f\"Scraping page {page}: {url}\")\n",
    "        response = requests.get(url)\n",
    "\n",
    "        if response.status_code == 404:\n",
    "            print(f\" Page {page} not found (404). Stopping scrape.\")\n",
    "            break  # Arrêter la boucle si la page n’existe pas\n",
    "\n",
    "        soup = BeautifulSoup(response.content, \"html.parser\")\n",
    "        books_tags = get_books_from_page(soup)\n",
    "\n",
    "        if not books_tags:\n",
    "            print(f\"Aucune donnée sur la page {page}. Fin du scraping.\")\n",
    "            break\n",
    "\n",
    "        data_books = [extract_book_info(book) for book in books_tags]\n",
    "        all_books.extend(data_books)\n",
    "\n",
    "    return all_books\n",
    "books_data = scrape_books(50)  \n",
    "\n",
    "books_df = pd.DataFrame(books_data)\n",
    "\n",
    "# Nettoyage préventif\n",
    "books_df.columns = [str(col).strip().replace(\" \", \"_\").replace(\"-\", \"_\") for col in books_df.columns]\n",
    "books_df = books_df.loc[:, books_df.columns.notnull()]\n",
    "\n",
    "# Connexion et insertion\n",
    "conn = sqlite3.connect(\"books.db\")\n",
    "books_df.to_sql(\"book_bdd_1\", conn, if_exists=\"replace\", index=False)\n",
    "conn.commit()\n",
    "\n"
   ]
  },
  {
   "cell_type": "code",
   "execution_count": 12,
   "id": "e0cab50c",
   "metadata": {},
   "outputs": [
    {
     "data": {
      "text/plain": [
       "1000"
      ]
     },
     "execution_count": 12,
     "metadata": {},
     "output_type": "execute_result"
    }
   ],
   "source": [
    "import sqlite3\n",
    "import pandas as pd\n",
    "\n",
    "# Connexion à la BDD\n",
    "conn = sqlite3.connect(\"book_store.db\")\n",
    "# Insertion dans la table\n",
    "books_df.to_sql(\"book_bdd_1\", conn, if_exists=\"replace\", index=False)"
   ]
  },
  {
   "cell_type": "markdown",
   "id": "3e34bcf5",
   "metadata": {},
   "source": [
    "Vérifier le nombre de livres présents dans la BDD en utilisant sqlite3 et la requête SQL adaptée."
   ]
  },
  {
   "cell_type": "code",
   "execution_count": 15,
   "id": "a82c9de5",
   "metadata": {},
   "outputs": [
    {
     "name": "stdout",
     "output_type": "stream",
     "text": [
      " Nombre de livres dans la base de données : 1000\n"
     ]
    }
   ],
   "source": [
    "import sqlite3\n",
    "\n",
    "# Connexion à la base de données\n",
    "conn = sqlite3.connect(\"books.db\")\n",
    "cursor = conn.cursor()\n",
    "\n",
    "# Requête SQL pour compter le nombre de livres\n",
    "cursor.execute(\"SELECT COUNT(*) FROM book_bdd_1\")\n",
    "\n",
    "# Récupération du résultat\n",
    "nb_livres = cursor.fetchone()[0]\n",
    "\n",
    "# Affichage\n",
    "print(f\" Nombre de livres dans la base de données : {nb_livres}\")\n",
    "\n"
   ]
  },
  {
   "cell_type": "code",
   "execution_count": 14,
   "id": "e03d276c",
   "metadata": {},
   "outputs": [
    {
     "name": "stdout",
     "output_type": "stream",
     "text": [
      "(1000, 4)\n"
     ]
    }
   ],
   "source": [
    "print(books_df.shape)\n"
   ]
  }
 ],
 "metadata": {
  "kernelspec": {
   "display_name": ".venv",
   "language": "python",
   "name": "python3"
  },
  "language_info": {
   "codemirror_mode": {
    "name": "ipython",
    "version": 3
   },
   "file_extension": ".py",
   "mimetype": "text/x-python",
   "name": "python",
   "nbconvert_exporter": "python",
   "pygments_lexer": "ipython3",
   "version": "3.12.3"
  }
 },
 "nbformat": 4,
 "nbformat_minor": 5
}
